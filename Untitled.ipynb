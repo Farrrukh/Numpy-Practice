{
 "cells": [
  {
   "cell_type": "code",
   "execution_count": 2,
   "metadata": {},
   "outputs": [],
   "source": [
    "import numpy as np\n",
    "\n"
   ]
  },
  {
   "cell_type": "code",
   "execution_count": 3,
   "metadata": {},
   "outputs": [],
   "source": [
    "x=np.zeros((4,4))"
   ]
  },
  {
   "cell_type": "code",
   "execution_count": 4,
   "metadata": {},
   "outputs": [
    {
     "data": {
      "text/plain": [
       "array([[0., 0., 0., 0.],\n",
       "       [0., 0., 0., 0.],\n",
       "       [0., 0., 0., 0.],\n",
       "       [0., 0., 0., 0.]])"
      ]
     },
     "execution_count": 4,
     "metadata": {},
     "output_type": "execute_result"
    }
   ],
   "source": [
    "x"
   ]
  },
  {
   "cell_type": "code",
   "execution_count": 5,
   "metadata": {},
   "outputs": [],
   "source": [
    "x=np.ones((5,5))\n"
   ]
  },
  {
   "cell_type": "code",
   "execution_count": 6,
   "metadata": {},
   "outputs": [
    {
     "data": {
      "text/plain": [
       "array([[1., 1., 1., 1., 1.],\n",
       "       [1., 1., 1., 1., 1.],\n",
       "       [1., 1., 1., 1., 1.],\n",
       "       [1., 1., 1., 1., 1.],\n",
       "       [1., 1., 1., 1., 1.]])"
      ]
     },
     "execution_count": 6,
     "metadata": {},
     "output_type": "execute_result"
    }
   ],
   "source": [
    "x"
   ]
  },
  {
   "cell_type": "code",
   "execution_count": 7,
   "metadata": {},
   "outputs": [
    {
     "data": {
      "text/plain": [
       "array([[9.19670594e-290, 1.50285142e-262, 1.50296771e-262,\n",
       "        1.67371368e-262, 1.68431625e-262, 1.50692187e-262,\n",
       "        1.68463607e-262],\n",
       "       [1.68474268e-262, 1.67405288e-262, 1.50727077e-262,\n",
       "        1.68516911e-262, 1.68527572e-262, 1.69245716e-262,\n",
       "        1.68548893e-262],\n",
       "       [1.68559554e-262, 1.50756152e-262, 1.50750337e-262,\n",
       "        1.50779411e-262, 1.50796856e-262, 1.68612857e-262,\n",
       "        1.50802671e-262],\n",
       "       [1.68666161e-262, 1.68676822e-262, 1.50825931e-262,\n",
       "        1.70203243e-262, 1.70224564e-262, 1.70705266e-262,\n",
       "        1.67591367e-262],\n",
       "       [1.69433733e-262, 1.67601058e-262, 1.67610750e-262,\n",
       "        1.69445363e-262, 1.69453116e-262, 1.67615595e-262,\n",
       "        1.69456992e-262],\n",
       "       [1.67625287e-262, 1.69468622e-262, 1.67927664e-262,\n",
       "        1.70730464e-262, 1.70742094e-262, 1.70747909e-262,\n",
       "        1.70759539e-262],\n",
       "       [1.70771169e-262, 1.67639824e-262, 1.69472499e-262,\n",
       "        1.69480252e-262, 1.69488005e-262, 1.69495759e-262,\n",
       "        7.94372105e-316]])"
      ]
     },
     "execution_count": 7,
     "metadata": {},
     "output_type": "execute_result"
    }
   ],
   "source": [
    "np.empty((7,7))"
   ]
  },
  {
   "cell_type": "code",
   "execution_count": 8,
   "metadata": {},
   "outputs": [],
   "source": [
    "l=[1,2,3,4,5]"
   ]
  },
  {
   "cell_type": "code",
   "execution_count": 9,
   "metadata": {},
   "outputs": [
    {
     "data": {
      "text/plain": [
       "array([1, 2, 3, 4, 5])"
      ]
     },
     "execution_count": 9,
     "metadata": {},
     "output_type": "execute_result"
    }
   ],
   "source": [
    "np.array(l)"
   ]
  },
  {
   "cell_type": "code",
   "execution_count": null,
   "metadata": {},
   "outputs": [],
   "source": [
    "np.arange(1,10)"
   ]
  }
 ],
 "metadata": {
  "kernelspec": {
   "display_name": "Python 3",
   "language": "python",
   "name": "python3"
  },
  "language_info": {
   "codemirror_mode": {
    "name": "ipython",
    "version": 3
   },
   "file_extension": ".py",
   "mimetype": "text/x-python",
   "name": "python",
   "nbconvert_exporter": "python",
   "pygments_lexer": "ipython3",
   "version": "3.7.4"
  }
 },
 "nbformat": 4,
 "nbformat_minor": 2
}
