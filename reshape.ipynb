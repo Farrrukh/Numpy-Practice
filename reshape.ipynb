{
 "cells": [
  {
   "cell_type": "code",
   "execution_count": 1,
   "metadata": {},
   "outputs": [],
   "source": [
    "import numpy as np"
   ]
  },
  {
   "cell_type": "code",
   "execution_count": 10,
   "metadata": {},
   "outputs": [],
   "source": [
    "x=np.random.randn(4,5)"
   ]
  },
  {
   "cell_type": "code",
   "execution_count": 11,
   "metadata": {},
   "outputs": [
    {
     "data": {
      "text/plain": [
       "array([[-1.0805853 , -0.88994506,  0.14517676, -0.58814373,  1.16624333],\n",
       "       [ 0.78224371, -1.08994875, -1.31437148,  0.35554739, -0.479744  ],\n",
       "       [ 1.76045424,  0.15464832,  0.66094004,  1.18919426, -1.01874174],\n",
       "       [ 2.30560387, -0.7864882 , -0.63217446,  0.77684013, -1.42322262]])"
      ]
     },
     "execution_count": 11,
     "metadata": {},
     "output_type": "execute_result"
    }
   ],
   "source": [
    "x"
   ]
  },
  {
   "cell_type": "code",
   "execution_count": 12,
   "metadata": {},
   "outputs": [
    {
     "data": {
      "text/plain": [
       "array([[[-1.0805853 , -0.88994506,  0.14517676, -0.58814373,\n",
       "          1.16624333],\n",
       "        [ 0.78224371, -1.08994875, -1.31437148,  0.35554739,\n",
       "         -0.479744  ]],\n",
       "\n",
       "       [[ 1.76045424,  0.15464832,  0.66094004,  1.18919426,\n",
       "         -1.01874174],\n",
       "        [ 2.30560387, -0.7864882 , -0.63217446,  0.77684013,\n",
       "         -1.42322262]]])"
      ]
     },
     "execution_count": 12,
     "metadata": {},
     "output_type": "execute_result"
    }
   ],
   "source": [
    "x.reshape((2,2,5))"
   ]
  },
  {
   "cell_type": "code",
   "execution_count": 16,
   "metadata": {},
   "outputs": [
    {
     "data": {
      "text/plain": [
       "array([[[-1.0805853 , -0.88994506,  0.14517676, -0.58814373,\n",
       "          1.16624333],\n",
       "        [ 0.78224371, -1.08994875, -1.31437148,  0.35554739,\n",
       "         -0.479744  ]],\n",
       "\n",
       "       [[ 1.76045424,  0.15464832,  0.66094004,  1.18919426,\n",
       "         -1.01874174],\n",
       "        [ 2.30560387, -0.7864882 , -0.63217446,  0.77684013,\n",
       "         -1.42322262]]])"
      ]
     },
     "execution_count": 16,
     "metadata": {},
     "output_type": "execute_result"
    }
   ],
   "source": [
    "x.reshape((2,2,5))"
   ]
  },
  {
   "cell_type": "code",
   "execution_count": 17,
   "metadata": {},
   "outputs": [
    {
     "data": {
      "text/plain": [
       "array([[[-1.0805853 , -0.88994506,  0.14517676, -0.58814373,\n",
       "          1.16624333],\n",
       "        [ 1.76045424,  0.15464832,  0.66094004,  1.18919426,\n",
       "         -1.01874174]],\n",
       "\n",
       "       [[ 0.78224371, -1.08994875, -1.31437148,  0.35554739,\n",
       "         -0.479744  ],\n",
       "        [ 2.30560387, -0.7864882 , -0.63217446,  0.77684013,\n",
       "         -1.42322262]]])"
      ]
     },
     "execution_count": 17,
     "metadata": {},
     "output_type": "execute_result"
    }
   ],
   "source": [
    "x.reshape((2,2,5),order='F')"
   ]
  },
  {
   "cell_type": "code",
   "execution_count": 19,
   "metadata": {},
   "outputs": [
    {
     "data": {
      "text/plain": [
       "array([[[-1.0805853 , -0.88994506,  0.14517676, -0.58814373,\n",
       "          1.16624333],\n",
       "        [ 0.78224371, -1.08994875, -1.31437148,  0.35554739,\n",
       "         -0.479744  ]],\n",
       "\n",
       "       [[ 1.76045424,  0.15464832,  0.66094004,  1.18919426,\n",
       "         -1.01874174],\n",
       "        [ 2.30560387, -0.7864882 , -0.63217446,  0.77684013,\n",
       "         -1.42322262]]])"
      ]
     },
     "execution_count": 19,
     "metadata": {},
     "output_type": "execute_result"
    }
   ],
   "source": [
    "x.reshape((2,2,5),order='c')"
   ]
  },
  {
   "cell_type": "code",
   "execution_count": 20,
   "metadata": {},
   "outputs": [
    {
     "data": {
      "text/plain": [
       "array([[-1.0805853 , -0.88994506,  0.14517676, -0.58814373,  1.16624333],\n",
       "       [ 0.78224371, -1.08994875, -1.31437148,  0.35554739, -0.479744  ],\n",
       "       [ 1.76045424,  0.15464832,  0.66094004,  1.18919426, -1.01874174],\n",
       "       [ 2.30560387, -0.7864882 , -0.63217446,  0.77684013, -1.42322262]])"
      ]
     },
     "execution_count": 20,
     "metadata": {},
     "output_type": "execute_result"
    }
   ],
   "source": [
    "x"
   ]
  },
  {
   "cell_type": "code",
   "execution_count": 21,
   "metadata": {},
   "outputs": [
    {
     "data": {
      "text/plain": [
       "array([-1.0805853 , -0.88994506,  0.14517676, -0.58814373,  1.16624333,\n",
       "        0.78224371, -1.08994875, -1.31437148,  0.35554739, -0.479744  ,\n",
       "        1.76045424,  0.15464832,  0.66094004,  1.18919426, -1.01874174,\n",
       "        2.30560387, -0.7864882 , -0.63217446,  0.77684013, -1.42322262])"
      ]
     },
     "execution_count": 21,
     "metadata": {},
     "output_type": "execute_result"
    }
   ],
   "source": [
    "x.ravel()"
   ]
  },
  {
   "cell_type": "code",
   "execution_count": 22,
   "metadata": {},
   "outputs": [
    {
     "data": {
      "text/plain": [
       "array([-1.0805853 , -0.88994506,  0.14517676, -0.58814373,  1.16624333,\n",
       "        0.78224371, -1.08994875, -1.31437148,  0.35554739, -0.479744  ,\n",
       "        1.76045424,  0.15464832,  0.66094004,  1.18919426, -1.01874174,\n",
       "        2.30560387, -0.7864882 , -0.63217446,  0.77684013, -1.42322262])"
      ]
     },
     "execution_count": 22,
     "metadata": {},
     "output_type": "execute_result"
    }
   ],
   "source": [
    "x.flatten()"
   ]
  },
  {
   "cell_type": "code",
   "execution_count": null,
   "metadata": {},
   "outputs": [],
   "source": []
  }
 ],
 "metadata": {
  "kernelspec": {
   "display_name": "Python 3",
   "language": "python",
   "name": "python3"
  },
  "language_info": {
   "codemirror_mode": {
    "name": "ipython",
    "version": 3
   },
   "file_extension": ".py",
   "mimetype": "text/x-python",
   "name": "python",
   "nbconvert_exporter": "python",
   "pygments_lexer": "ipython3",
   "version": "3.7.4"
  }
 },
 "nbformat": 4,
 "nbformat_minor": 2
}
